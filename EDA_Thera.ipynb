{
 "cells": [
  {
   "cell_type": "code",
   "execution_count": 1,
   "outputs": [],
   "source": [
    "import numpy as np\n",
    "import pandas as pd\n",
    "from sklearn.impute import SimpleImputer\n",
    "import seaborn as sns\n",
    "import matplotlib.pyplot as plt\n",
    "from sklearn.ensemble import *\n",
    "from sklearn.tree import DecisionTreeClassifier, DecisionTreeRegressor\n",
    "from sklearn.decomposition import PCA\n",
    "import random\n",
    "from scipy.special import inv_boxcox\n",
    "from scipy.stats import boxcox\n",
    "from scipy.stats import skew\n",
    "from sklearn.metrics import mean_absolute_error, classification_report\n"
   ],
   "metadata": {
    "collapsed": false,
    "pycharm": {
     "name": "#%%\n"
    }
   }
  },
  {
   "cell_type": "code",
   "execution_count": 2,
   "outputs": [],
   "source": [
    "def read_data(csv_path):\n",
    "    \"\"\"\n",
    "    Given a path to a file, reads in the data in the file\n",
    "    \"\"\"\n",
    "    print(\"Reading Data...\")\n",
    "    data = pd.read_csv(csv_path)\n",
    "    print(\"Shape:\", data.shape)\n",
    "    return data\n",
    "\n",
    "def clean_data(data):\n",
    "    \"\"\"\n",
    "    Cleans data by taking string based NAs and converting to NaN.\n",
    "    Assumes that the string columns are integer columns.\n",
    "    \"\"\"\n",
    "    print(\"Cleaning Data...\")\n",
    "    data = data.replace(\"NA\", None)\n",
    "    for col_name in data.select_dtypes(exclude=['int64', 'float64']).columns:\n",
    "        data[col_name] = pd.to_numeric(data[col_name], downcast=\"integer\", errors=\"coerce\")\n",
    "    return data\n",
    "\n",
    "def drop_duplicate_columns(data):\n",
    "    \"\"\"\n",
    "    Iterates through columns in dataframe to find columns\n",
    "    with identical values and compiles a single one of these columns into\n",
    "    a set of columns to be dropped.\n",
    "    \"\"\"\n",
    "    col_names = set()\n",
    "    for x in range(data.shape[1]):\n",
    "        col = data.iloc[:, x]\n",
    "        for y in range(x + 1, data.shape[1]):\n",
    "            check_dup = data.iloc[:, y]\n",
    "            if col.equals(check_dup):\n",
    "                col_names.add(data.columns.values[y])\n",
    "    return data.drop(columns=list(col_names))\n",
    "\n",
    "def impute_values(data):\n",
    "    \"\"\"\n",
    "    Fits a simple imputer to the dataset and imputes missing\n",
    "    values in the dataset.\n",
    "    Might need to be changed to an iterative imputer.\n",
    "    \"\"\"\n",
    "    print(\"Imputing Missing Data...\")\n",
    "    data = data.replace([np.inf, -np.inf], np.nan)\n",
    "    matrix = data.to_numpy()\n",
    "    imp = SimpleImputer()\n",
    "    imp.fit(matrix)\n",
    "    complete_data = pd.DataFrame(imp.transform(matrix), columns=data.columns)\n",
    "    return complete_data\n",
    "\n",
    "def correlation_heatmap(corr):\n",
    "    sns.set_theme(style=\"white\")\n",
    "\n",
    "    ax = sns.heatmap(\n",
    "        corr,\n",
    "        vmin=-1, vmax=1, center=0,\n",
    "        cmap=sns.diverging_palette(20, 220, n=200),\n",
    "        square=True\n",
    "    )\n",
    "    ax.set_xticklabels(\n",
    "        ax.get_xticklabels(),\n",
    "        rotation=45,\n",
    "        horizontalalignment='right'\n",
    "    )\n",
    "\n",
    "    plt.show()\n",
    "\n",
    "def get_PCA_features(X, num):\n",
    "    pca = PCA(n_components=num)\n",
    "    pca_result = pca.fit_transform(X)\n",
    "    print(pca.explained_variance_)\n",
    "    return pca_result\n",
    "\n",
    "def down_sample(X, y):\n",
    "    \"\"\"\n",
    "    Down sample data to have equal numbers of\n",
    "    positive and negative target variables.\n",
    "    \"\"\"\n",
    "    print(\"Starting down sampling...\")\n",
    "    count = len(y[y>0])\n",
    "    print(\"Count: \", count)\n",
    "    indices0 = np.where(y == 0.0)[0]\n",
    "    samples0 = random.choices(indices0, k=int(count))\n",
    "    samples1 = list(np.where(y > 0)[0])\n",
    "    samples0.extend(samples1)\n",
    "    return X[samples0], y[samples0]\n",
    "\n",
    "def remove_collinear_features(x, threshold):\n",
    "    corr = x.corr()\n",
    "    to_drop = []\n",
    "    for i in range(len(corr.columns)):\n",
    "        for j in range(i):\n",
    "            c1, c2 = corr.columns[i], corr.columns[j]\n",
    "            if corr[c1][c2] >= threshold:\n",
    "                to_drop.append(c1)\n",
    "\n",
    "    x = x.drop(columns = set(to_drop))\n",
    "    return x\n",
    "\n",
    "def log_skew(data):\n",
    "    \"\"\"\n",
    "    Takes the log of the values of columns with data that is\n",
    "    skewed greater than 10 standard deviations\n",
    "    \"\"\"\n",
    "    print(\"Log Skewed Data...\")\n",
    "    data_copy = data.copy()\n",
    "    for col in data_copy.columns:\n",
    "        std = data[col].std()\n",
    "        a = (data[col] - data[col].mean())/std\n",
    "        skewval = skew(a)\n",
    "        if abs(skewval) > 10:\n",
    "            data_copy[col] = np.log(data_copy[col]+1.0000001 - data_copy[col].min())\n",
    "    return data_copy"
   ],
   "metadata": {
    "collapsed": false,
    "pycharm": {
     "name": "#%%\n"
    }
   }
  },
  {
   "cell_type": "code",
   "execution_count": 3,
   "outputs": [
    {
     "name": "stdout",
     "output_type": "stream",
     "text": [
      "Reading Data...\n",
      "Shape: (105471, 771)\n",
      "Cleaning Data...\n",
      "Imputing Missing Data...\n"
     ]
    },
    {
     "name": "stderr",
     "output_type": "stream",
     "text": [
      "/Users/therafu/venv/lib/python3.8/site-packages/IPython/core/interactiveshell.py:3337: DtypeWarning: Columns (135,204,274,417) have mixed types.Specify dtype option on import or set low_memory=False.\n",
      "  if (await self.run_code(code, result,  async_=asy)):\n"
     ]
    }
   ],
   "source": [
    "data = read_data(\"/Users/therafu/Documents/MyFiles/Projects/COMP/DSCI303/Loan-Default-Prediction---ICL/train_v2.csv\")\n",
    "cleaned_data = clean_data(data)\n",
    "dropped_data = drop_duplicate_columns(cleaned_data)\n",
    "imputed_data = impute_values(dropped_data)"
   ],
   "metadata": {
    "collapsed": false,
    "pycharm": {
     "name": "#%%\n"
    }
   }
  },
  {
   "cell_type": "code",
   "execution_count": 4,
   "outputs": [],
   "source": [
    "dfX = imputed_data.drop(\"loss\", 1).drop(\"id\", 1)\n",
    "dfX_C = remove_collinear_features(dfX, 0.99)"
   ],
   "metadata": {
    "collapsed": false,
    "pycharm": {
     "name": "#%%\n"
    }
   }
  },
  {
   "cell_type": "code",
   "execution_count": 6,
   "outputs": [],
   "source": [
    "def normalize(data):\n",
    "    for col in data.columns:\n",
    "        if data[col].std() != 0:\n",
    "            data[col] = (data[col] - data[col].mean()) / data[col].std()\n",
    "        else:\n",
    "            data[col] = 0\n",
    "    return data\n",
    "\n",
    "# X = normalize(dfX).to_numpy()\n",
    "X = normalize(dfX_C).to_numpy()"
   ],
   "metadata": {
    "collapsed": false,
    "pycharm": {
     "name": "#%%\n"
    }
   }
  },
  {
   "cell_type": "code",
   "execution_count": 7,
   "outputs": [
    {
     "name": "stdout",
     "output_type": "stream",
     "text": [
      "0.878706511778228\n"
     ]
    }
   ],
   "source": [
    "pca = PCA(n_components=100)\n",
    "pcaX = pca.fit_transform(X)\n",
    "print(sum(pca.explained_variance_ratio_))"
   ],
   "metadata": {
    "collapsed": false,
    "pycharm": {
     "name": "#%%\n"
    }
   }
  },
  {
   "cell_type": "code",
   "execution_count": 8,
   "outputs": [
    {
     "name": "stdout",
     "output_type": "stream",
     "text": [
      "Starting down sampling...\n",
      "Count:  7297\n",
      "(80000, 478)\n"
     ]
    }
   ],
   "source": [
    "base_X = X\n",
    "\n",
    "# Split data\n",
    "y = imputed_data[\"loss\"]\n",
    "trainX, trainY = base_X[:80000], y[:80000]\n",
    "testX, testY = base_X[80000:], y[80000:]\n",
    "\n",
    "# Create classification y\n",
    "cls_y = y.mask(y > 0, 1).to_numpy()\n",
    "cls_trainY, cls_testY = cls_y[:80000], cls_y[80000:]\n",
    "\n",
    "# Create down sampled data\n",
    "downX, downY = down_sample(trainX, trainY)\n",
    "posX, posY = trainX[trainY > 0], trainY[trainY > 0]\n",
    "pos_testX, pos_testY = testX[testY > 0], testY[testY > 0]\n",
    "\n",
    "print(trainX.shape)"
   ],
   "metadata": {
    "collapsed": false,
    "pycharm": {
     "name": "#%%\n"
    }
   }
  },
  {
   "cell_type": "code",
   "execution_count": 36,
   "outputs": [],
   "source": [
    "import time\n",
    "def evaluate_result(result):\n",
    "    print(\"MAE for the model\", mean_absolute_error(testY, result))\n",
    "    print(\"MAE for averages\", mean_absolute_error(testY, np.ones(testY.shape[0]) * np.average(testY)))\n",
    "    print(\"MAE for all zeros\", mean_absolute_error(testY, np.zeros(testY.shape[0])))\n",
    "    print(\"Predicted sum of Y\", result.sum())\n",
    "    print(\"Actual sum of Y\", testY.sum())\n",
    "    print(\"Predicted postives of Y\", result[result>0].size)\n",
    "    print(\"Actual postives of Y\", testY[testY>0].size)\n",
    "    plt.hist(result, bins=100)\n",
    "    plt.yscale('log')\n",
    "    plt.xlim((-2, 102))\n",
    "    plt.title(\"Histogram of loss variable predicted by mixed model (log scale)\")\n",
    "    # plt.tick_params(color=\"white\", labelcolor=\"white\")\n",
    "\n",
    "def evaluate_cls_result(result):\n",
    "    print(\"MAE for the model\", mean_absolute_error(cls_testY, result))\n",
    "    print(\"MAE for all zeros\", mean_absolute_error(cls_testY, np.zeros(cls_testY.shape[0])))\n",
    "    print(classification_report(cls_testY, result))\n",
    "    plt.hist(result, bins=2)\n",
    "    plt.yscale('log')\n",
    "    plt.title(\"Histogram of loss variable (log scale)\", color=\"white\")\n",
    "    # plt.tick_params(color=\"white\", labelcolor=\"white\")\n",
    "\n",
    "def evaluate_pos_result(result):\n",
    "    print(\"MAE for the model\", mean_absolute_error(pos_testY, result))\n",
    "    print(\"MAE for all zeros\", mean_absolute_error(pos_testY, np.zeros(pos_testY.shape[0])))\n",
    "    print(\"Predicted sum of Y\", result.sum())\n",
    "    print(\"Actual sum of Y\", pos_testY.sum())\n",
    "    print(\"Predicted postives of Y\", result[result>0].size)\n",
    "    print(\"Actual postives of Y\", pos_testY[pos_testY>0].size)\n",
    "\n",
    "def predict_on_two_models(cls_model, reg_model, isolation_forest=False, boxcox_lam=None):\n",
    "    \"\"\"\n",
    "    Create models based on model_type and fit\n",
    "    to the training data given. Returns the model.\n",
    "    \"\"\"\n",
    "    ypred1 = cls_model.predict(testX)\n",
    "    if isolation_forest:\n",
    "        ypred1[ypred1>0] = 0\n",
    "        ypred1[ypred1<0] = 1\n",
    "    X_filtered = testX[ypred1 > 0]\n",
    "    print(\"X size: \", trainX.shape[0], \"Filtered size\", X_filtered.shape[0])\n",
    "    ypred2 = reg_model.predict(X_filtered).astype(int)\n",
    "    if boxcox_lam is not None:\n",
    "        ypred2 = (inv_boxcox(ypred2, boxcox_lam)-1.000001).astype(int)\n",
    "    ypred1[ypred1 > 0] = ypred2\n",
    "    return ypred1\n",
    "\n",
    "def evaluate_model(model):\n",
    "    ypred = model.predict(testX)\n",
    "    evaluate_result(ypred)\n",
    "\n",
    "def evaluate_cls_model(model):\n",
    "    ypred = model.predict(testX)\n",
    "    evaluate_cls_result(ypred)"
   ],
   "metadata": {
    "collapsed": false,
    "pycharm": {
     "name": "#%%\n"
    }
   }
  },
  {
   "cell_type": "code",
   "execution_count": 25,
   "outputs": [
    {
     "data": {
      "text/plain": "Text(0.5, 1.0, 'Histogram of loss variable lable (log scale)')"
     },
     "execution_count": 25,
     "metadata": {},
     "output_type": "execute_result"
    },
    {
     "data": {
      "text/plain": "<Figure size 432x288 with 1 Axes>",
      "image/png": "[encoded data removed]"
     },
     "metadata": {
      "needs_background": "light"
     },
     "output_type": "display_data"
    }
   ],
   "source": [
    "plt.hist(trainY, bins=100)\n",
    "plt.yscale('log')\n",
    "plt.title(\"Histogram of loss variable lable (log scale)\")"
   ],
   "metadata": {
    "collapsed": false,
    "pycharm": {
     "name": "#%%\n"
    }
   }
  },
  {
   "cell_type": "code",
   "execution_count": 11,
   "outputs": [],
   "source": [
    "model = DecisionTreeClassifier(max_depth=50)\n",
    "model.fit(trainX, cls_trainY)\n",
    "evaluate_cls_model(model)"
   ],
   "metadata": {
    "collapsed": false,
    "pycharm": {
     "name": "#%%\n"
    }
   }
  },
  {
   "cell_type": "code",
   "execution_count": 30,
   "outputs": [
    {
     "data": {
      "text/plain": "DecisionTreeClassifier(max_depth=30)"
     },
     "execution_count": 30,
     "metadata": {},
     "output_type": "execute_result"
    }
   ],
   "source": [
    "model1 = DecisionTreeClassifier(max_depth=30)\n",
    "model1.fit(trainX, trainY)\n",
    "evaluate_model(model1)"
   ],
   "metadata": {
    "collapsed": false,
    "pycharm": {
     "name": "#%%\n"
    }
   }
  },
  {
   "cell_type": "code",
   "execution_count": 15,
   "outputs": [
    {
     "name": "stdout",
     "output_type": "stream",
     "text": [
      "MAE for the model 1.3812963762710533\n",
      "MAE for averages 1.4342157152902693\n",
      "MAE for all zeros 0.7946684464685329\n",
      "Predicted sum of Y 16906\n",
      "Actual sum of Y 20241.0\n",
      "Predicted postives of Y 2082\n",
      "Actual postives of Y 2486\n"
     ]
    },
    {
     "data": {
      "text/plain": "<Figure size 432x288 with 1 Axes>",
      "image/png": "[encoded data removed]"
     },
     "metadata": {
      "needs_background": "dark"
     },
     "output_type": "display_data"
    }
   ],
   "source": [
    "bc_ytrain, bc_ytrain_lambda = boxcox(trainY+1.000001)\n",
    "model2 = DecisionTreeRegressor(max_depth=30)\n",
    "model2.fit(trainX, bc_ytrain)\n",
    "ypred = model2.predict(testX)\n",
    "ypred = (inv_boxcox(ypred, bc_ytrain_lambda)-1.000001).astype(int)\n",
    "evaluate_result(ypred)\n",
    "plt.show()"
   ],
   "metadata": {
    "collapsed": false,
    "pycharm": {
     "name": "#%%\n"
    }
   }
  },
  {
   "cell_type": "code",
   "execution_count": 34,
   "outputs": [
    {
     "name": "stdout",
     "output_type": "stream",
     "text": [
      "[1. 1. 1. 1. 1. 1. 1. 1. 1. 1.]\n",
      "4099.0 2486.0 [0. 0. 0. ... 0. 0. 0.]\n",
      "X size:  80000 Filtered size 4099\n",
      "MAE for the model 0.9028306701739233\n",
      "MAE for averages 1.4342157152902693\n",
      "MAE for all zeros 0.7946684464685329\n",
      "Predicted sum of Y 4099.0\n",
      "Actual sum of Y 20241.0\n",
      "Predicted postives of Y 4099\n",
      "Actual postives of Y 2486\n"
     ]
    },
    {
     "data": {
      "text/plain": "<Figure size 432x288 with 1 Axes>",
      "image/png": "[encoded data removed]"
     },
     "metadata": {
      "needs_background": "light"
     },
     "output_type": "display_data"
    }
   ],
   "source": [
    "from sklearn.naive_bayes import GaussianNB\n",
    "gnb =  GaussianNB()\n",
    "ypred1 = gnb.fit(trainX, cls_trainY).predict_proba(testX)\n",
    "ypred1 = ypred1[:,1]\n",
    "\n",
    "threshold = 1 - 10**-16\n",
    "print(ypred1[ypred1>threshold][:10])\n",
    "ypred1[ypred1>threshold] = float('inf')\n",
    "ypred1[ypred1<=threshold] = 0\n",
    "ypred1[ypred1==float('inf')] = 1\n",
    "print(sum(ypred1), sum(cls_testY), ypred1)\n",
    "evaluate_cls_result(ypred1)\n",
    "\n",
    "X_filtered = testX[ypred1 > 0]\n",
    "print(\"X size: \", trainX.shape[0], \"Filtered size\", X_filtered.shape[0])\n",
    "\n",
    "model1 = DecisionTreeClassifier(max_depth=50)\n",
    "model1.fit(trainX, trainY)\n",
    "\n",
    "ypred2 = model1.predict(X_filtered).astype(int)\n",
    "evaluate_result(ypred1)\n",
    "\n",
    "ypred1[ypred1 > 0] = ypred2\n",
    "evaluate_result(ypred1)"
   ],
   "metadata": {
    "collapsed": false,
    "pycharm": {
     "name": "#%%\n"
    }
   }
  },
  {
   "cell_type": "code",
   "execution_count": 20,
   "outputs": [
    {
     "name": "stderr",
     "output_type": "stream",
     "text": [
      "/Users/therafu/venv/lib/python3.8/site-packages/sklearn/ensemble/_iforest.py:252: FutureWarning: 'behaviour' is deprecated in 0.22 and will be removed in 0.24. You should not pass or set this parameter.\n",
      "  warn(\n"
     ]
    },
    {
     "name": "stdout",
     "output_type": "stream",
     "text": [
      "MAE for the model 0.7123787837148129\n",
      "MAE for all zeros 0.09760119351419261\n",
      "              precision    recall  f1-score   support\n",
      "\n",
      "         0.0       0.91      0.23      0.37     22985\n",
      "         1.0       0.10      0.78      0.18      2486\n",
      "\n",
      "    accuracy                           0.29     25471\n",
      "   macro avg       0.50      0.51      0.27     25471\n",
      "weighted avg       0.83      0.29      0.35     25471\n",
      "\n",
      "19561 25471\n",
      "X size:  80000 Filtered size 19561\n",
      "MAE for the model 1.351890385143889\n",
      "MAE for averages 1.4342157152902693\n",
      "MAE for all zeros 0.7946684464685329\n",
      "Predicted sum of Y 16329\n",
      "Actual sum of Y 20241.0\n",
      "Predicted postives of Y 2288\n",
      "Actual postives of Y 2486\n"
     ]
    },
    {
     "data": {
      "text/plain": "<Figure size 432x288 with 1 Axes>",
      "image/png": "[encoded data removed]"
     },
     "metadata": {
      "needs_background": "dark"
     },
     "output_type": "display_data"
    }
   ],
   "source": [
    "model8 = IsolationForest(contamination=0.8, behaviour=\"new\")\n",
    "model8.fit(trainX)\n",
    "ypred = model8.predict(testX)\n",
    "ypred[ypred>0] = 0\n",
    "ypred[ypred<0] = 1\n",
    "evaluate_cls_result(ypred)\n",
    "print(sum(ypred), len(ypred))\n",
    "\n",
    "model1 = DecisionTreeClassifier(max_depth=50)\n",
    "model1.fit(trainX, trainY)\n",
    "\n",
    "ypred = predict_on_two_models(model8, model1, isolation_forest=True)\n",
    "evaluate_result(ypred)"
   ],
   "metadata": {
    "collapsed": false,
    "pycharm": {
     "name": "#%%\n"
    }
   }
  }
 ],
 "metadata": {
  "kernelspec": {
   "display_name": "Python 3",
   "language": "python",
   "name": "python3"
  },
  "language_info": {
   "codemirror_mode": {
    "name": "ipython",
    "version": 2
   },
   "file_extension": ".py",
   "mimetype": "text/x-python",
   "name": "python",
   "nbconvert_exporter": "python",
   "pygments_lexer": "ipython2",
   "version": "2.7.6"
  }
 },
 "nbformat": 4,
 "nbformat_minor": 0
}